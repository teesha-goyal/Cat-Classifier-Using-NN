{
 "cells": [
  {
   "cell_type": "markdown",
   "id": "a712edbc",
   "metadata": {},
   "source": [
    "# Cat Classifier using Deep learning\n",
    "\n",
    "Using deep learning concepts to identify whether there's a cat in a picture or not"
   ]
  },
  {
   "cell_type": "code",
   "execution_count": 1,
   "id": "9479238d",
   "metadata": {},
   "outputs": [],
   "source": [
    "#importing libraries\n",
    "import numpy as np\n",
    "import h5py\n",
    "import matplotlib.pyplot as plt\n",
    "import scipy\n",
    "from PIL import Image\n",
    "from scipy import ndimage\n",
    "from helper_function import *\n",
    "from test_your_own import test_your_own\n",
    "from final_model import L_layer_model\n",
    "\n",
    "%matplotlib inline\n",
    "plt.rcParams['figure.figsize'] = (5.0, 4.0) # set default size of plots\n",
    "plt.rcParams['image.interpolation'] = 'nearest'\n",
    "plt.rcParams['image.cmap'] = 'gray'\n",
    "\n",
    "%load_ext autoreload\n",
    "%autoreload 2\n",
    "np.random.seed(1)"
   ]
  },
  {
   "cell_type": "code",
   "execution_count": 2,
   "id": "bb6ca556",
   "metadata": {},
   "outputs": [],
   "source": [
    "#loading and processing data\n",
    "train_x_orig, train_y, test_x_orig, test_y, classes = load_data()\n",
    "\n",
    "# Reshape the training and test examples \n",
    "train_x_flatten = train_x_orig.reshape(train_x_orig.shape[0], -1).T   # The \"-1\" makes reshape flatten the remaining dimensions\n",
    "test_x_flatten = test_x_orig.reshape(test_x_orig.shape[0], -1).T\n",
    "\n",
    "# Standardize data to have feature values between 0 and 1.\n",
    "train_x = train_x_flatten/255.\n",
    "test_x = test_x_flatten/255."
   ]
  },
  {
   "cell_type": "raw",
   "id": "b6653467",
   "metadata": {},
   "source": [
    "# train_x's shape: (12288, 209) // 64*64*3 for 64X64 pixels and 3 color bands and total 209 examples\n",
    "test_x's shape: (12288, 50)"
   ]
  },
  {
   "cell_type": "code",
   "execution_count": 3,
   "id": "0eb827f7",
   "metadata": {},
   "outputs": [],
   "source": [
    "# Defining hyperparameters and other constants\n",
    "n_x = 12288     # num_pixel * num_pixel * 3\n",
    "layers_dims = [12288, 20, 7, 5, 1] \n",
    "learning_rate = 0.0075"
   ]
  },
  {
   "cell_type": "raw",
   "id": "e00a1805",
   "metadata": {},
   "source": [
    "Now we will train our model by using 4 layer deep neural network with 20,7 and 5 hidden units in layer 1, 2 and 3 respectively.\n",
    "we are using ReLU activation function in the first three layers and then use a sigmoid function in the output layer.\n",
    "\n",
    "That is [LINEAR->RELU]*(3)->LINEAR->SIGMOID.  "
   ]
  },
  {
   "cell_type": "markdown",
   "id": "18fb7736",
   "metadata": {},
   "source": [
    "## Training model"
   ]
  },
  {
   "cell_type": "code",
   "execution_count": 4,
   "id": "fbdbe7b0",
   "metadata": {},
   "outputs": [
    {
     "name": "stdout",
     "output_type": "stream",
     "text": [
      "Cost after iteration 0: 0.7717493284237686\n",
      "Cost after iteration 100: 0.6720534400822914\n",
      "Cost after iteration 200: 0.6482632048575212\n",
      "Cost after iteration 300: 0.6115068816101354\n",
      "Cost after iteration 400: 0.5670473268366111\n",
      "Cost after iteration 500: 0.5401376634547801\n",
      "Cost after iteration 600: 0.5279299569455267\n",
      "Cost after iteration 700: 0.46547737717668514\n",
      "Cost after iteration 800: 0.369125852495928\n",
      "Cost after iteration 900: 0.39174697434805356\n",
      "Cost after iteration 1000: 0.31518698886006163\n",
      "Cost after iteration 1100: 0.2726998441789385\n",
      "Cost after iteration 1200: 0.23741853400268134\n",
      "Cost after iteration 1300: 0.19960120532208644\n",
      "Cost after iteration 1400: 0.18926300388463302\n",
      "Cost after iteration 1500: 0.16118854665827748\n",
      "Cost after iteration 1600: 0.14821389662363316\n",
      "Cost after iteration 1700: 0.13777487812972944\n",
      "Cost after iteration 1800: 0.1297401754919012\n",
      "Cost after iteration 1900: 0.12122535068005215\n",
      "Cost after iteration 2000: 0.1138206066863371\n",
      "Cost after iteration 2100: 0.10783928526254132\n",
      "Cost after iteration 2200: 0.10285466069352679\n",
      "Cost after iteration 2300: 0.10089745445261787\n",
      "Cost after iteration 2400: 0.09287821526472395\n",
      "Cost after iteration 2499: 0.088439943441702\n"
     ]
    }
   ],
   "source": [
    "costs = []                                 # keep track of cost\n",
    "num_iterations = 2500\n",
    "print_cost = True\n",
    "\n",
    "# Parameters initialization.\n",
    "parameters = initialize_parameters_deep(layers_dims)\n",
    "    \n",
    "# Loop (gradient descent)\n",
    "for i in range(0, num_iterations):\n",
    "\n",
    "    # Forward propagation: [LINEAR -> RELU]*(3) -> LINEAR -> SIGMOID.\n",
    "    AL, caches = L_model_forward(train_x, parameters)\n",
    "        \n",
    "    # Compute cost.\n",
    "    cost = compute_cost(AL, train_y)\n",
    "    \n",
    "    # Backward propagation.\n",
    "    grads = L_model_backward(AL, train_y, caches)\n",
    "\n",
    "    # Update parameters.\n",
    "    parameters = update_parameters(parameters, grads, learning_rate)\n",
    "\n",
    "    # Print the cost every 100 iterations\n",
    "    if print_cost and i % 100 == 0 or i == num_iterations - 1:\n",
    "        print(\"Cost after iteration {}: {}\".format(i, np.squeeze(cost)))\n",
    "    if i % 100 == 0 or i == num_iterations:\n",
    "        costs.append(cost)"
   ]
  },
  {
   "cell_type": "code",
   "execution_count": 5,
   "id": "5be0e954",
   "metadata": {},
   "outputs": [],
   "source": [
    "# parameters, costs = L_layer_model(train_x, train_y, layers_dims, num_iterations = 2500, print_cost = True)"
   ]
  },
  {
   "cell_type": "code",
   "execution_count": 7,
   "id": "8c4e209b",
   "metadata": {
    "scrolled": true
   },
   "outputs": [
    {
     "name": "stdout",
     "output_type": "stream",
     "text": [
      "Accuracy: 0.9856459330143539\n",
      "Accuracy: 0.8\n"
     ]
    }
   ],
   "source": [
    "#predicting train and test accuracy\n",
    "pred_train = predict(train_x, train_y, parameters)\n",
    "pred_test = predict(test_x, test_y, parameters)\n"
   ]
  },
  {
   "cell_type": "markdown",
   "id": "355b6cce",
   "metadata": {},
   "source": [
    "### Therefore our train accuracy is found to be 98% whereas the test accuracy is 80%"
   ]
  },
  {
   "cell_type": "code",
   "execution_count": 11,
   "id": "e3e385f1",
   "metadata": {},
   "outputs": [
    {
     "name": "stdout",
     "output_type": "stream",
     "text": [
      "Accuracy: 1.0\n",
      "y = 0.0, your L-layer model predicts a \"non-cat\" picture.\n"
     ]
    },
    {
     "data": {
      "image/png": "[encoded data removed]",
      "text/plain": [
       "<Figure size 360x288 with 1 Axes>"
      ]
     },
     "metadata": {
      "needs_background": "light"
     },
     "output_type": "display_data"
    }
   ],
   "source": [
    "# #To test your own image \n",
    "\n",
    "my_image = \"images/dog\" + \".jpg\"        # change this to the name of your image file \n",
    "my_label_y = [0]                 # the true class of your image (1 -> cat, 0 -> non-cat)\n",
    "\n",
    "\n",
    "fname = my_image\n",
    "image = np.array(Image.open(fname).resize((64, 64)))\n",
    "plt.imshow(image)\n",
    "image = image / 255.\n",
    "image = image.reshape((1, 64 * 64 * 3)).T\n",
    "\n",
    "my_predicted_image = predict(image, my_label_y, parameters)\n",
    "\n",
    "print (\"y = \" + str(np.squeeze(my_predicted_image)) + \", your L-layer model predicts a \\\"\" + classes[int(np.squeeze(my_predicted_image)),].decode(\"utf-8\") +  \"\\\" picture.\")"
   ]
  },
  {
   "cell_type": "markdown",
   "id": "a16a2bf0",
   "metadata": {},
   "source": [
    "#### This is the accuracy found without using regularization therefore you can see that the train accuracy is 98% whereas the test accuracy is still 80%"
   ]
  },
  {
   "cell_type": "code",
   "execution_count": null,
   "id": "91ef96d5",
   "metadata": {},
   "outputs": [],
   "source": []
  },
  {
   "cell_type": "code",
   "execution_count": null,
   "id": "8431ab64",
   "metadata": {},
   "outputs": [],
   "source": []
  }
 ],
 "metadata": {
  "kernelspec": {
   "display_name": "Python 3",
   "language": "python",
   "name": "python3"
  },
  "language_info": {
   "codemirror_mode": {
    "name": "ipython",
    "version": 3
   },
   "file_extension": ".py",
   "mimetype": "text/x-python",
   "name": "python",
   "nbconvert_exporter": "python",
   "pygments_lexer": "ipython3",
   "version": "3.9.4"
  }
 },
 "nbformat": 4,
 "nbformat_minor": 5
}
